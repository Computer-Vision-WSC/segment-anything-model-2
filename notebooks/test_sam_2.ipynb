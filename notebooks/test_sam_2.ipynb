{
  "cells": [
    {
      "cell_type": "code",
      "execution_count": 1,
      "metadata": {},
      "outputs": [],
      "source": [
        "import os\n",
        "import requests\n",
        "import cv2\n",
        "import numpy as np\n",
        "import matplotlib.pyplot as plt"
      ]
    },
    {
      "cell_type": "code",
      "execution_count": 2,
      "metadata": {},
      "outputs": [],
      "source": [
        "def download_file(url, destination_folder, file_name):\n",
        "\n",
        "    os.makedirs(destination_folder, exist_ok=True)\n",
        "    path_to_write = f\"{destination_folder}/{file_name}\"\n",
        "    response = requests.get(url)\n",
        "\n",
        "    if response.status_code == 200:\n",
        "        with open(path_to_write, 'wb') as file:\n",
        "            file.write(response.content)\n",
        "        print(f\"File downloaded and saved to: {path_to_write}\")\n",
        "    else:\n",
        "        print(f\"Failed to download the file, status code: {response.status_code}\")"
      ]
    },
    {
      "cell_type": "code",
      "execution_count": 9,
      "metadata": {},
      "outputs": [],
      "source": [
        "download_tar = 'https://dl.fbaipublicfiles.com/segment_anything_2/072824/sam2_hiera_large.pt'\n",
        "destination_folder = \"../train/pretrained_models\"\n",
        "model_file_name = 'sam2_hiera_large.pt'"
      ]
    },
    {
      "cell_type": "code",
      "execution_count": 10,
      "metadata": {},
      "outputs": [
        {
          "name": "stdout",
          "output_type": "stream",
          "text": [
            "File downloaded and saved to: ../train/pretrained_models/sam2_hiera_large.pt\n"
          ]
        }
      ],
      "source": [
        "download_file(download_tar, destination_folder, model_file_name)"
      ]
    }
  ],
  "metadata": {
    "accelerator": "GPU",
    "colab": {
      "gpuType": "T4",
      "provenance": []
    },
    "kernelspec": {
      "display_name": "segment-anything-model",
      "language": "python",
      "name": "python3"
    },
    "language_info": {
      "codemirror_mode": {
        "name": "ipython",
        "version": 3
      },
      "file_extension": ".py",
      "mimetype": "text/x-python",
      "name": "python",
      "nbconvert_exporter": "python",
      "pygments_lexer": "ipython3",
      "version": "3.11.11"
    }
  },
  "nbformat": 4,
  "nbformat_minor": 0
}
